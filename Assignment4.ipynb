{
 "cells": [
  {
   "cell_type": "markdown",
   "id": "34deb7d8",
   "metadata": {},
   "source": [
    "1.1 Write a Python Program(with class concepts) to find the area of the triangle using the below\n",
    "formula.\n",
    "area = (s*(s-a)*(s-b)*(s-c)) ** 0.5\n",
    "Function to take the length of the sides of triangle from user should be defined in the parent\n",
    "class and function to calculate the area should be defined in subclass."
   ]
  },
  {
   "cell_type": "code",
   "execution_count": 13,
   "id": "e81eed41",
   "metadata": {},
   "outputs": [
    {
     "name": "stdout",
     "output_type": "stream",
     "text": [
      "a=10\n",
      "b=10\n",
      "c=10\n",
      "area : 43.30127018922193\n"
     ]
    }
   ],
   "source": [
    "class Shapes:\n",
    "    def __init__(self,a,b,c):\n",
    "        self.a = float(a)\n",
    "        self.b = float(b)\n",
    "        self.c = float(c)\n",
    "\n",
    "class Triangle(Shapes):\n",
    "    def __init__(self,a,b,c):\n",
    "        super().__init__(a,b,c)\n",
    "\n",
    "    def get_area(self):\n",
    "        s = (a + b + c) / 2\n",
    "        return (s*(s-a)*(s-b)*(s-c)) ** 0.5        \n",
    "\n",
    "    \n",
    "a= int(input(\"a=\"))\n",
    "b= int(input(\"b=\"))\n",
    "c= int(input(\"c=\"))\n",
    "t = Triangle(a,b,c)\n",
    "print(\"area : {}\".format(t.get_area()))\n"
   ]
  },
  {
   "cell_type": "markdown",
   "id": "3db331d1",
   "metadata": {},
   "source": [
    "1.2 Write a function filter_long_words() that takes a list of words and an integer n and returns\n",
    "the list of words that are longer than n."
   ]
  },
  {
   "cell_type": "code",
   "execution_count": 14,
   "id": "44e8441f",
   "metadata": {},
   "outputs": [
    {
     "name": "stdout",
     "output_type": "stream",
     "text": [
      "['camel', 'difference']\n"
     ]
    }
   ],
   "source": [
    "def filter_long_words(words, n):\n",
    "    res = []\n",
    "    for word in words:\n",
    "        if len(word) > n:\n",
    "            res.append(word)\n",
    "    return res\n",
    "\n",
    "\n",
    "print(filter_long_words(['cat','camel','ca','dog','difference'],3))"
   ]
  },
  {
   "cell_type": "markdown",
   "id": "fcf385ed",
   "metadata": {},
   "source": [
    "2.1 Write a Python program using function concept that maps list of words into a list of integers\n",
    "representing the lengths of the corresponding words.\n",
    "Hint: If a list [ ab,cde,erty] is passed on to the python function output should come as [2,3,4]\n",
    "Here 2,3 and 4 are the lengths of the words in the list."
   ]
  },
  {
   "cell_type": "code",
   "execution_count": 15,
   "id": "dc9b99e3",
   "metadata": {},
   "outputs": [
    {
     "name": "stdout",
     "output_type": "stream",
     "text": [
      "[2, 3, 4]\n"
     ]
    }
   ],
   "source": [
    "def lenofWords(words):\n",
    "    res = []\n",
    "    for word in words:\n",
    "        res.append(len(word))\n",
    "    return res\n",
    "print(lenofWords( [ 'ab','cde','erty']))"
   ]
  },
  {
   "cell_type": "markdown",
   "id": "622a5f58",
   "metadata": {},
   "source": [
    "2.2 Write a Python function which takes a character (i.e. a string of length 1) and returns True if\n",
    "it is a vowel, False otherwise."
   ]
  },
  {
   "cell_type": "code",
   "execution_count": 16,
   "id": "67a5f29e",
   "metadata": {},
   "outputs": [
    {
     "name": "stdout",
     "output_type": "stream",
     "text": [
      "True\n",
      "False\n"
     ]
    }
   ],
   "source": [
    "def isVowel(char):\n",
    "    if char in ['a','e','i','o','u']:\n",
    "        return True\n",
    "    return False\n",
    "print(isVowel('i'))\n",
    "print(isVowel('f'))"
   ]
  },
  {
   "cell_type": "code",
   "execution_count": null,
   "id": "fd20e551",
   "metadata": {},
   "outputs": [],
   "source": []
  }
 ],
 "metadata": {
  "kernelspec": {
   "display_name": "Python 3",
   "language": "python",
   "name": "python3"
  },
  "language_info": {
   "codemirror_mode": {
    "name": "ipython",
    "version": 3
   },
   "file_extension": ".py",
   "mimetype": "text/x-python",
   "name": "python",
   "nbconvert_exporter": "python",
   "pygments_lexer": "ipython3",
   "version": "3.8.8"
  }
 },
 "nbformat": 4,
 "nbformat_minor": 5
}
