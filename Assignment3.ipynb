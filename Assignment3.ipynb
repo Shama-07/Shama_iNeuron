{
 "cells": [
  {
   "cell_type": "markdown",
   "id": "22eb69e3",
   "metadata": {},
   "source": [
    "1.1 Write a Python Program to implement your own myreduce() function which works exactly\n",
    "like Python's built-in function reduce()"
   ]
  },
  {
   "cell_type": "code",
   "execution_count": 15,
   "id": "fa5d3367",
   "metadata": {},
   "outputs": [
    {
     "name": "stdout",
     "output_type": "stream",
     "text": [
      "The sum of the list elements is : 17\n"
     ]
    }
   ],
   "source": [
    "def myreduce(function , sequence):\n",
    "    res = sequence[0]\n",
    "    for item in sequence[1:]:\n",
    "        res = function(res,item)\n",
    "    return res\n",
    "    \n",
    "lis = [1, 3, 5, 6, 2, ]\n",
    "print(\"The sum of the list elements is : \", end=\"\")\n",
    "print(myreduce(lambda a, b: a+b, lis))"
   ]
  },
  {
   "cell_type": "markdown",
   "id": "573ecaec",
   "metadata": {},
   "source": [
    "1.2 Write a Python program to implement your own myfilter() function which works exactly\n",
    "like Python's built-in function filter()"
   ]
  },
  {
   "cell_type": "code",
   "execution_count": 16,
   "id": "08901549",
   "metadata": {},
   "outputs": [
    {
     "name": "stdout",
     "output_type": "stream",
     "text": [
      "[1, 3, 5]\n"
     ]
    }
   ],
   "source": [
    "def myfilter(function , sequence):\n",
    "    res = []\n",
    "    for item in sequence:\n",
    "        if function(item):\n",
    "            res.append(item)\n",
    "    return res\n",
    "    \n",
    "lis = [1, 3, 5, 6, 2]\n",
    "result = myfilter(lambda x: x % 2 != 0, lis)\n",
    "print(list(result))"
   ]
  },
  {
   "cell_type": "markdown",
   "id": "f74a110b",
   "metadata": {},
   "source": [
    "2. Implement List comprehensions to produce the following lists.\n",
    "Write List comprehensions to produce the following Lists"
   ]
  },
  {
   "cell_type": "markdown",
   "id": "693641b5",
   "metadata": {},
   "source": [
    "i. ['x', 'xx', 'xxx', 'xxxx', 'y', 'yy', 'yyy', 'yyyy', 'z', 'zz', 'zzz', 'zzzz']"
   ]
  },
  {
   "cell_type": "code",
   "execution_count": 17,
   "id": "e4872628",
   "metadata": {},
   "outputs": [
    {
     "name": "stdout",
     "output_type": "stream",
     "text": [
      "['x', 'xx', 'xxx', 'xxxx', 'y', 'yy', 'yyy', 'yyyy', 'z', 'zz', 'zzz', 'zzzz']\n"
     ]
    }
   ],
   "source": [
    "res = [char*i for char in ['x','y','z'] for i in range(1,5)]\n",
    "print(res)"
   ]
  },
  {
   "cell_type": "markdown",
   "id": "f475ec70",
   "metadata": {},
   "source": [
    "ii. ['x', 'y', 'z', 'xx', 'yy', 'zz', 'xxx', 'yyy', 'zzz', 'xxxx', 'yyyy', 'zzzz']"
   ]
  },
  {
   "cell_type": "code",
   "execution_count": 18,
   "id": "887a009c",
   "metadata": {},
   "outputs": [
    {
     "name": "stdout",
     "output_type": "stream",
     "text": [
      "['x', 'y', 'z', 'xx', 'yy', 'zz', 'xxx', 'yyy', 'zzz', 'xxxx', 'yyyy', 'zzzz']\n"
     ]
    }
   ],
   "source": [
    "res = [char*i for i in range(1,5) for char in ['x','y','z']]\n",
    "print(res)"
   ]
  },
  {
   "cell_type": "markdown",
   "id": "4ac82b0d",
   "metadata": {},
   "source": [
    "iii. [[2], [3], [4], [3], [4], [5], [4], [5], [6]] [[2, 3, 4, 5], [3, 4, 5, 6],\n",
    "[4, 5, 6, 7], [5, 6, 7, 8]]"
   ]
  },
  {
   "cell_type": "code",
   "execution_count": 19,
   "id": "27405462",
   "metadata": {},
   "outputs": [
    {
     "name": "stdout",
     "output_type": "stream",
     "text": [
      "[[2], [3], [4], [3], [4], [5], [4], [5], [6], [[2, 3, 4, 5], [3, 4, 5, 6], [4, 5, 6, 7]]]\n"
     ]
    }
   ],
   "source": [
    "res = [[x+y]for x in range(2,5) for y in range(3)]\n",
    "res1 =[[x for x in range(y+2,y+6)]for y in range(3)]\n",
    "res.append(res1)\n",
    "print(res)"
   ]
  },
  {
   "cell_type": "markdown",
   "id": "844d818a",
   "metadata": {},
   "source": [
    "iv. [(1, 1), (2, 1), (3, 1), (1, 2), (2, 2), (3, 2), (1, 3), (2, 3), (3, 3)]"
   ]
  },
  {
   "cell_type": "code",
   "execution_count": 20,
   "id": "385d4078",
   "metadata": {},
   "outputs": [
    {
     "name": "stdout",
     "output_type": "stream",
     "text": [
      "[(1, 1), (2, 1), (3, 1), (1, 2), (2, 2), (3, 2), (1, 3), (2, 3), (3, 3)]\n"
     ]
    }
   ],
   "source": [
    "res = [(j,i) for i in range(1,4) for j in range(1,4)]\n",
    "print(res)"
   ]
  }
 ],
 "metadata": {
  "kernelspec": {
   "display_name": "Python 3",
   "language": "python",
   "name": "python3"
  },
  "language_info": {
   "codemirror_mode": {
    "name": "ipython",
    "version": 3
   },
   "file_extension": ".py",
   "mimetype": "text/x-python",
   "name": "python",
   "nbconvert_exporter": "python",
   "pygments_lexer": "ipython3",
   "version": "3.8.8"
  }
 },
 "nbformat": 4,
 "nbformat_minor": 5
}
